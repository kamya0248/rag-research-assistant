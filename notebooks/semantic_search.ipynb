{
 "cells": [
  {
   "cell_type": "code",
   "execution_count": 3,
   "metadata": {
    "colab": {
     "base_uri": "https://localhost:8080/"
    },
    "executionInfo": {
     "elapsed": 5640,
     "status": "ok",
     "timestamp": 1750581382821,
     "user": {
      "displayName": "Kamya Bhardwaj",
      "userId": "01359402276596689168"
     },
     "user_tz": -330
    },
    "id": "dXuqqUS5uy6g",
    "outputId": "7b2114dd-221e-431a-9113-9fe79768471e"
   },
   "outputs": [
    {
     "name": "stdout",
     "output_type": "stream",
     "text": [
      "Requirement already satisfied: sentence-transformers in /usr/local/lib/python3.11/dist-packages (4.1.0)\n",
      "Requirement already satisfied: faiss-cpu in /usr/local/lib/python3.11/dist-packages (1.11.0)\n",
      "Requirement already satisfied: nltk in /usr/local/lib/python3.11/dist-packages (3.9.1)\n",
      "Requirement already satisfied: transformers<5.0.0,>=4.41.0 in /usr/local/lib/python3.11/dist-packages (from sentence-transformers) (4.52.4)\n",
      "Requirement already satisfied: tqdm in /usr/local/lib/python3.11/dist-packages (from sentence-transformers) (4.67.1)\n",
      "Requirement already satisfied: torch>=1.11.0 in /usr/local/lib/python3.11/dist-packages (from sentence-transformers) (2.6.0+cu124)\n",
      "Requirement already satisfied: scikit-learn in /usr/local/lib/python3.11/dist-packages (from sentence-transformers) (1.6.1)\n",
      "Requirement already satisfied: scipy in /usr/local/lib/python3.11/dist-packages (from sentence-transformers) (1.15.3)\n",
      "Requirement already satisfied: huggingface-hub>=0.20.0 in /usr/local/lib/python3.11/dist-packages (from sentence-transformers) (0.33.0)\n",
      "Requirement already satisfied: Pillow in /usr/local/lib/python3.11/dist-packages (from sentence-transformers) (11.2.1)\n",
      "Requirement already satisfied: typing_extensions>=4.5.0 in /usr/local/lib/python3.11/dist-packages (from sentence-transformers) (4.14.0)\n",
      "Requirement already satisfied: numpy<3.0,>=1.25.0 in /usr/local/lib/python3.11/dist-packages (from faiss-cpu) (2.0.2)\n",
      "Requirement already satisfied: packaging in /usr/local/lib/python3.11/dist-packages (from faiss-cpu) (24.2)\n",
      "Requirement already satisfied: click in /usr/local/lib/python3.11/dist-packages (from nltk) (8.2.1)\n",
      "Requirement already satisfied: joblib in /usr/local/lib/python3.11/dist-packages (from nltk) (1.5.1)\n",
      "Requirement already satisfied: regex>=2021.8.3 in /usr/local/lib/python3.11/dist-packages (from nltk) (2024.11.6)\n",
      "Requirement already satisfied: filelock in /usr/local/lib/python3.11/dist-packages (from huggingface-hub>=0.20.0->sentence-transformers) (3.18.0)\n",
      "Requirement already satisfied: fsspec>=2023.5.0 in /usr/local/lib/python3.11/dist-packages (from huggingface-hub>=0.20.0->sentence-transformers) (2025.3.2)\n",
      "Requirement already satisfied: pyyaml>=5.1 in /usr/local/lib/python3.11/dist-packages (from huggingface-hub>=0.20.0->sentence-transformers) (6.0.2)\n",
      "Requirement already satisfied: requests in /usr/local/lib/python3.11/dist-packages (from huggingface-hub>=0.20.0->sentence-transformers) (2.32.3)\n",
      "Requirement already satisfied: hf-xet<2.0.0,>=1.1.2 in /usr/local/lib/python3.11/dist-packages (from huggingface-hub>=0.20.0->sentence-transformers) (1.1.3)\n",
      "Requirement already satisfied: networkx in /usr/local/lib/python3.11/dist-packages (from torch>=1.11.0->sentence-transformers) (3.5)\n",
      "Requirement already satisfied: jinja2 in /usr/local/lib/python3.11/dist-packages (from torch>=1.11.0->sentence-transformers) (3.1.6)\n",
      "Requirement already satisfied: nvidia-cuda-nvrtc-cu12==12.4.127 in /usr/local/lib/python3.11/dist-packages (from torch>=1.11.0->sentence-transformers) (12.4.127)\n",
      "Requirement already satisfied: nvidia-cuda-runtime-cu12==12.4.127 in /usr/local/lib/python3.11/dist-packages (from torch>=1.11.0->sentence-transformers) (12.4.127)\n",
      "Requirement already satisfied: nvidia-cuda-cupti-cu12==12.4.127 in /usr/local/lib/python3.11/dist-packages (from torch>=1.11.0->sentence-transformers) (12.4.127)\n",
      "Requirement already satisfied: nvidia-cudnn-cu12==9.1.0.70 in /usr/local/lib/python3.11/dist-packages (from torch>=1.11.0->sentence-transformers) (9.1.0.70)\n",
      "Requirement already satisfied: nvidia-cublas-cu12==12.4.5.8 in /usr/local/lib/python3.11/dist-packages (from torch>=1.11.0->sentence-transformers) (12.4.5.8)\n",
      "Requirement already satisfied: nvidia-cufft-cu12==11.2.1.3 in /usr/local/lib/python3.11/dist-packages (from torch>=1.11.0->sentence-transformers) (11.2.1.3)\n",
      "Requirement already satisfied: nvidia-curand-cu12==10.3.5.147 in /usr/local/lib/python3.11/dist-packages (from torch>=1.11.0->sentence-transformers) (10.3.5.147)\n",
      "Requirement already satisfied: nvidia-cusolver-cu12==11.6.1.9 in /usr/local/lib/python3.11/dist-packages (from torch>=1.11.0->sentence-transformers) (11.6.1.9)\n",
      "Requirement already satisfied: nvidia-cusparse-cu12==12.3.1.170 in /usr/local/lib/python3.11/dist-packages (from torch>=1.11.0->sentence-transformers) (12.3.1.170)\n",
      "Requirement already satisfied: nvidia-cusparselt-cu12==0.6.2 in /usr/local/lib/python3.11/dist-packages (from torch>=1.11.0->sentence-transformers) (0.6.2)\n",
      "Requirement already satisfied: nvidia-nccl-cu12==2.21.5 in /usr/local/lib/python3.11/dist-packages (from torch>=1.11.0->sentence-transformers) (2.21.5)\n",
      "Requirement already satisfied: nvidia-nvtx-cu12==12.4.127 in /usr/local/lib/python3.11/dist-packages (from torch>=1.11.0->sentence-transformers) (12.4.127)\n",
      "Requirement already satisfied: nvidia-nvjitlink-cu12==12.4.127 in /usr/local/lib/python3.11/dist-packages (from torch>=1.11.0->sentence-transformers) (12.4.127)\n",
      "Requirement already satisfied: triton==3.2.0 in /usr/local/lib/python3.11/dist-packages (from torch>=1.11.0->sentence-transformers) (3.2.0)\n",
      "Requirement already satisfied: sympy==1.13.1 in /usr/local/lib/python3.11/dist-packages (from torch>=1.11.0->sentence-transformers) (1.13.1)\n",
      "Requirement already satisfied: mpmath<1.4,>=1.1.0 in /usr/local/lib/python3.11/dist-packages (from sympy==1.13.1->torch>=1.11.0->sentence-transformers) (1.3.0)\n",
      "Requirement already satisfied: tokenizers<0.22,>=0.21 in /usr/local/lib/python3.11/dist-packages (from transformers<5.0.0,>=4.41.0->sentence-transformers) (0.21.1)\n",
      "Requirement already satisfied: safetensors>=0.4.3 in /usr/local/lib/python3.11/dist-packages (from transformers<5.0.0,>=4.41.0->sentence-transformers) (0.5.3)\n",
      "Requirement already satisfied: threadpoolctl>=3.1.0 in /usr/local/lib/python3.11/dist-packages (from scikit-learn->sentence-transformers) (3.6.0)\n",
      "Requirement already satisfied: MarkupSafe>=2.0 in /usr/local/lib/python3.11/dist-packages (from jinja2->torch>=1.11.0->sentence-transformers) (3.0.2)\n",
      "Requirement already satisfied: charset-normalizer<4,>=2 in /usr/local/lib/python3.11/dist-packages (from requests->huggingface-hub>=0.20.0->sentence-transformers) (3.4.2)\n",
      "Requirement already satisfied: idna<4,>=2.5 in /usr/local/lib/python3.11/dist-packages (from requests->huggingface-hub>=0.20.0->sentence-transformers) (3.10)\n",
      "Requirement already satisfied: urllib3<3,>=1.21.1 in /usr/local/lib/python3.11/dist-packages (from requests->huggingface-hub>=0.20.0->sentence-transformers) (2.4.0)\n",
      "Requirement already satisfied: certifi>=2017.4.17 in /usr/local/lib/python3.11/dist-packages (from requests->huggingface-hub>=0.20.0->sentence-transformers) (2025.6.15)\n"
     ]
    }
   ],
   "source": [
    "!pip install sentence-transformers faiss-cpu nltk"
   ]
  },
  {
   "cell_type": "code",
   "execution_count": 1,
   "metadata": {
    "colab": {
     "base_uri": "https://localhost:8080/",
     "height": 1000,
     "referenced_widgets": [
      "67eb60533ef44045ae16623521849add",
      "3a510de52c7a4ac49a7b1933c7561f34",
      "33dff7cf7453481cb8582e3b6c804373",
      "c569fa4f60d5434cb17da41a0a8db302",
      "f30a3d430b3a49a6a3311e19ced05a43",
      "9d0e0de4f85441bca9180e0b94021409",
      "73fa55a48f614efc8bc15aef876b6678",
      "baec366fdcd64feab1e46e3dfc40fc78",
      "e2e28d3e818f4115ad67fbecfe14ca11",
      "29ea5a0420344a3e8d6a6f656762089e",
      "72ec014ab326457489be06097ecf746a"
     ]
    },
    "executionInfo": {
     "elapsed": 17208,
     "status": "ok",
     "timestamp": 1750581747062,
     "user": {
      "displayName": "Kamya Bhardwaj",
      "userId": "01359402276596689168"
     },
     "user_tz": -330
    },
    "id": "uVClm94nv3GY",
    "outputId": "4347890d-1f23-4952-9f57-a7317b3accff"
   },
   "outputs": [
    {
     "name": "stderr",
     "output_type": "stream",
     "text": [
      "[nltk_data] Downloading package punkt to\n",
      "[nltk_data]     C:\\Users\\intel\\AppData\\Roaming\\nltk_data...\n",
      "[nltk_data]   Unzipping tokenizers\\punkt.zip.\n",
      "[nltk_data] Downloading package stopwords to\n",
      "[nltk_data]     C:\\Users\\intel\\AppData\\Roaming\\nltk_data...\n",
      "[nltk_data]   Unzipping corpora\\stopwords.zip.\n",
      "[nltk_data] Downloading package wordnet to\n",
      "[nltk_data]     C:\\Users\\intel\\AppData\\Roaming\\nltk_data...\n",
      "[nltk_data] Downloading package omw-1.4 to\n",
      "[nltk_data]     C:\\Users\\intel\\AppData\\Roaming\\nltk_data...\n"
     ]
    },
    {
     "name": "stdout",
     "output_type": "stream",
     "text": [
      "🔄 Generating embeddings...\n"
     ]
    },
    {
     "data": {
      "application/vnd.jupyter.widget-view+json": {
       "model_id": "9c58043340804699b73b376e2c9c1fb8",
       "version_major": 2,
       "version_minor": 0
      },
      "text/plain": [
       "modules.json:   0%|          | 0.00/349 [00:00<?, ?B/s]"
      ]
     },
     "metadata": {},
     "output_type": "display_data"
    },
    {
     "name": "stderr",
     "output_type": "stream",
     "text": [
      "C:\\Users\\intel\\anaconda3\\Lib\\site-packages\\huggingface_hub\\file_download.py:143: UserWarning: `huggingface_hub` cache-system uses symlinks by default to efficiently store duplicated files but your machine does not support them in C:\\Users\\intel\\.cache\\huggingface\\hub\\models--sentence-transformers--all-MiniLM-L6-v2. Caching files will still work but in a degraded version that might require more space on your disk. This warning can be disabled by setting the `HF_HUB_DISABLE_SYMLINKS_WARNING` environment variable. For more details, see https://huggingface.co/docs/huggingface_hub/how-to-cache#limitations.\n",
      "To support symlinks on Windows, you either need to activate Developer Mode or to run Python as an administrator. In order to activate developer mode, see this article: https://docs.microsoft.com/en-us/windows/apps/get-started/enable-your-device-for-development\n",
      "  warnings.warn(message)\n"
     ]
    },
    {
     "data": {
      "application/vnd.jupyter.widget-view+json": {
       "model_id": "975005d1441c4879bcc18b5cfe2d3687",
       "version_major": 2,
       "version_minor": 0
      },
      "text/plain": [
       "config_sentence_transformers.json:   0%|          | 0.00/116 [00:00<?, ?B/s]"
      ]
     },
     "metadata": {},
     "output_type": "display_data"
    },
    {
     "data": {
      "application/vnd.jupyter.widget-view+json": {
       "model_id": "d643538d4b7a453ea0b36539bc2b7216",
       "version_major": 2,
       "version_minor": 0
      },
      "text/plain": [
       "README.md:   0%|          | 0.00/10.5k [00:00<?, ?B/s]"
      ]
     },
     "metadata": {},
     "output_type": "display_data"
    },
    {
     "data": {
      "application/vnd.jupyter.widget-view+json": {
       "model_id": "941c0c9256ad49738d804a9d654f2c83",
       "version_major": 2,
       "version_minor": 0
      },
      "text/plain": [
       "sentence_bert_config.json:   0%|          | 0.00/53.0 [00:00<?, ?B/s]"
      ]
     },
     "metadata": {},
     "output_type": "display_data"
    },
    {
     "data": {
      "application/vnd.jupyter.widget-view+json": {
       "model_id": "9a1ff61a628b402e941cd5d2381c4da4",
       "version_major": 2,
       "version_minor": 0
      },
      "text/plain": [
       "config.json:   0%|          | 0.00/612 [00:00<?, ?B/s]"
      ]
     },
     "metadata": {},
     "output_type": "display_data"
    },
    {
     "name": "stderr",
     "output_type": "stream",
     "text": [
      "Xet Storage is enabled for this repo, but the 'hf_xet' package is not installed. Falling back to regular HTTP download. For better performance, install the package with: `pip install huggingface_hub[hf_xet]` or `pip install hf_xet`\n"
     ]
    },
    {
     "data": {
      "application/vnd.jupyter.widget-view+json": {
       "model_id": "0dd655e414064922a56abf8411885027",
       "version_major": 2,
       "version_minor": 0
      },
      "text/plain": [
       "model.safetensors:   0%|          | 0.00/90.9M [00:00<?, ?B/s]"
      ]
     },
     "metadata": {},
     "output_type": "display_data"
    },
    {
     "data": {
      "application/vnd.jupyter.widget-view+json": {
       "model_id": "c616d1de7a4e47ba86d2c6c4f6c974b1",
       "version_major": 2,
       "version_minor": 0
      },
      "text/plain": [
       "tokenizer_config.json:   0%|          | 0.00/350 [00:00<?, ?B/s]"
      ]
     },
     "metadata": {},
     "output_type": "display_data"
    },
    {
     "data": {
      "application/vnd.jupyter.widget-view+json": {
       "model_id": "c91a9f76acfd49248d80721119db4430",
       "version_major": 2,
       "version_minor": 0
      },
      "text/plain": [
       "vocab.txt:   0%|          | 0.00/232k [00:00<?, ?B/s]"
      ]
     },
     "metadata": {},
     "output_type": "display_data"
    },
    {
     "data": {
      "application/vnd.jupyter.widget-view+json": {
       "model_id": "ddad331096d8403f970c4e78d97cf72a",
       "version_major": 2,
       "version_minor": 0
      },
      "text/plain": [
       "tokenizer.json:   0%|          | 0.00/466k [00:00<?, ?B/s]"
      ]
     },
     "metadata": {},
     "output_type": "display_data"
    },
    {
     "data": {
      "application/vnd.jupyter.widget-view+json": {
       "model_id": "5a49564444b44ffb822dd47b7aa6c58c",
       "version_major": 2,
       "version_minor": 0
      },
      "text/plain": [
       "special_tokens_map.json:   0%|          | 0.00/112 [00:00<?, ?B/s]"
      ]
     },
     "metadata": {},
     "output_type": "display_data"
    },
    {
     "data": {
      "application/vnd.jupyter.widget-view+json": {
       "model_id": "c7db217115f343ebb1fad8635d4ca8b3",
       "version_major": 2,
       "version_minor": 0
      },
      "text/plain": [
       "config.json:   0%|          | 0.00/190 [00:00<?, ?B/s]"
      ]
     },
     "metadata": {},
     "output_type": "display_data"
    },
    {
     "data": {
      "application/vnd.jupyter.widget-view+json": {
       "model_id": "6c314257794b403b9ed90a2f12c7059a",
       "version_major": 2,
       "version_minor": 0
      },
      "text/plain": [
       "Batches:   0%|          | 0/4 [00:00<?, ?it/s]"
      ]
     },
     "metadata": {},
     "output_type": "display_data"
    },
    {
     "name": "stdout",
     "output_type": "stream",
     "text": [
      "✅ Semantic index saved successfully!\n"
     ]
    },
    {
     "name": "stdin",
     "output_type": "stream",
     "text": [
      "🔍 Enter your research query:  deepfake\n"
     ]
    },
    {
     "name": "stdout",
     "output_type": "stream",
     "text": [
      "\n",
      "📄 Result 1\n",
      "Title: DeePhy: On Deepfake Phylogeny\n",
      "Authors: Kartik Narayan, Harsh Agarwal, Kartik Thakral, Surbhi Mittal, Mayank Vatsa, Richa Singh\n",
      "Date: 2022-09-19\n",
      "Keyword: deepfakes\n",
      "Link: http://arxiv.org/pdf/2209.09111v1\n",
      "Abstract: Deepfake refers to tailored and synthetically generated videos which are now\n",
      "prevalent and spreading on a large scale, threatening the trustworthiness of\n",
      "the information available online. While existing datasets contain different\n",
      "kinds of deepfakes which vary in their generation technique, they do n...\n",
      "\n",
      "📄 Result 2\n",
      "Title: Behind the Deepfake: 8% Create; 90% Concerned. Surveying public exposure to and perceptions of deepfakes in the UK\n",
      "Authors: Tvesha Sippy, Florence Enock, Jonathan Bright, Helen Z. Margetts\n",
      "Date: 2024-07-08\n",
      "Keyword: deepfakes\n",
      "Link: http://arxiv.org/pdf/2407.05529v1\n",
      "Abstract: This article examines public exposure to and perceptions of deepfakes based\n",
      "on insights from a nationally representative survey of 1403 UK adults. The\n",
      "survey is one of the first of its kind since recent improvements in deepfake\n",
      "technology and widespread adoption of political deepfakes. The findings ...\n",
      "\n",
      "📄 Result 3\n",
      "Title: Deepfake-Eval-2024: A Multi-Modal In-the-Wild Benchmark of Deepfakes Circulated in 2024\n",
      "Authors: Nuria Alina Chandra, Ryan Murtfeldt, Lin Qiu, Arnab Karmakar, Hannah Lee, Emmanuel Tanumihardja, Kevin Farhat, Ben Caffee, Sejin Paik, Changyeon Lee, Jongwook Choi, Aerin Kim, Oren Etzioni\n",
      "Date: 2025-03-04\n",
      "Keyword: deepfakes\n",
      "Link: http://arxiv.org/pdf/2503.02857v4\n",
      "Abstract: In the age of increasingly realistic generative AI, robust deepfake detection\n",
      "is essential for mitigating fraud and disinformation. While many deepfake\n",
      "detectors report high accuracy on academic datasets, we show that these\n",
      "academic benchmarks are out of date and not representative of real-world\n",
      "dee...\n",
      "\n",
      "📄 Result 4\n",
      "Title: Linguistic Profiling of Deepfakes: An Open Database for Next-Generation Deepfake Detection\n",
      "Authors: Yabin Wang, Zhiwu Huang, Zhiheng Ma, Xiaopeng Hong\n",
      "Date: 2024-01-04\n",
      "Keyword: deepfakes\n",
      "Link: http://arxiv.org/pdf/2401.02335v1\n",
      "Abstract: The emergence of text-to-image generative models has revolutionized the field\n",
      "of deepfakes, enabling the creation of realistic and convincing visual content\n",
      "directly from textual descriptions. However, this advancement presents\n",
      "considerably greater challenges in detecting the authenticity of such co...\n",
      "\n",
      "📄 Result 5\n",
      "Title: WildDeepfake: A Challenging Real-World Dataset for Deepfake Detection\n",
      "Authors: Bojia Zi, Minghao Chang, Jingjing Chen, Xingjun Ma, Yu-Gang Jiang\n",
      "Date: 2021-01-05\n",
      "Keyword: deepfakes\n",
      "Link: http://arxiv.org/pdf/2101.01456v2\n",
      "Abstract: In recent years, the abuse of a face swap technique called deepfake has\n",
      "raised enormous public concerns. So far, a large number of deepfake videos\n",
      "(known as \"deepfakes\") have been crafted and uploaded to the internet, calling\n",
      "for effective countermeasures. One promising countermeasure against deepfa...\n",
      "\n",
      "📄 Result 6\n",
      "Title: GBDF: Gender Balanced DeepFake Dataset Towards Fair DeepFake Detection\n",
      "Authors: Aakash Varma Nadimpalli, Ajita Rattani\n",
      "Date: 2022-07-21\n",
      "Keyword: deepfakes\n",
      "Link: http://arxiv.org/pdf/2207.10246v1\n",
      "Abstract: Facial forgery by deepfakes has raised severe societal concerns. Several\n",
      "solutions have been proposed by the vision community to effectively combat the\n",
      "misinformation on the internet via automated deepfake detection systems. Recent\n",
      "studies have demonstrated that facial analysis-based deep learning m...\n",
      "\n",
      "📄 Result 7\n",
      "Title: Robust Sequential DeepFake Detection\n",
      "Authors: Rui Shao, Tianxing Wu, Ziwei Liu\n",
      "Date: 2023-09-26\n",
      "Keyword: deepfakes\n",
      "Link: http://arxiv.org/pdf/2309.14991v2\n",
      "Abstract: Since photorealistic faces can be readily generated by facial manipulation\n",
      "technologies nowadays, potential malicious abuse of these technologies has\n",
      "drawn great concerns. Numerous deepfake detection methods are thus proposed.\n",
      "However, existing methods only focus on detecting one-step facial manipul...\n",
      "\n",
      "📄 Result 8\n",
      "Title: DeepFake-Adapter: Dual-Level Adapter for DeepFake Detection\n",
      "Authors: Rui Shao, Tianxing Wu, Liqiang Nie, Ziwei Liu\n",
      "Date: 2023-06-01\n",
      "Keyword: deepfakes\n",
      "Link: http://arxiv.org/pdf/2306.00863v2\n",
      "Abstract: Existing deepfake detection methods fail to generalize well to unseen or\n",
      "degraded samples, which can be attributed to the over-fitting of low-level\n",
      "forgery patterns. Here we argue that high-level semantics are also\n",
      "indispensable recipes for generalizable forgery detection. Recently, large\n",
      "pre-traine...\n",
      "\n",
      "📄 Result 9\n",
      "Title: Are Deepfakes Concerning? Analyzing Conversations of Deepfakes on Reddit and Exploring Societal Implications\n",
      "Authors: Dilrukshi Gamage, Piyush Ghasiya, Vamshi Krishna Bonagiri, Mark E Whiting, Kazutoshi Sasahara\n",
      "Date: 2022-03-14\n",
      "Keyword: deepfakes\n",
      "Link: http://arxiv.org/pdf/2203.15044v1\n",
      "Abstract: Deepfakes are synthetic content generated using advanced deep learning and AI\n",
      "technologies. The advancement of technology has created opportunities for\n",
      "anyone to create and share deepfakes much easier. This may lead to societal\n",
      "concerns based on how communities engage with it. However, there is limi...\n",
      "\n",
      "📄 Result 10\n",
      "Title: Combatting deepfakes: Policies to address national security threats and rights violations\n",
      "Authors: Andrea Miotti, Akash Wasil\n",
      "Date: 2024-02-14\n",
      "Keyword: deepfakes\n",
      "Link: http://arxiv.org/pdf/2402.09581v2\n",
      "Abstract: This paper provides policy recommendations to address threats from deepfakes.\n",
      "First, we provide background information about deepfakes and review the harms\n",
      "they pose. We describe how deepfakes are currently used to proliferate sexual\n",
      "abuse material, commit fraud, manipulate voter behavior, and pose ...\n"
     ]
    }
   ],
   "source": [
    "import pandas as pd\n",
    "import numpy as np\n",
    "import faiss\n",
    "import re\n",
    "import nltk\n",
    "from nltk.tokenize import word_tokenize\n",
    "from nltk.corpus import stopwords\n",
    "from nltk.stem import WordNetLemmatizer\n",
    "from sentence_transformers import SentenceTransformer\n",
    "import os\n",
    "\n",
    "# Optional: Set working directory to your project root\n",
    "os.chdir(r\"C:\\Users\\intel\\Desktop\\draft RAG\")\n",
    "\n",
    "# Download NLTK data\n",
    "nltk.download('punkt', force=True)\n",
    "nltk.download('stopwords', force=True)\n",
    "nltk.download('wordnet', force=True)\n",
    "nltk.download('omw-1.4', force=True)\n",
    "\n",
    "# =========================\n",
    "# STEP 1: Load Raw Data\n",
    "# =========================\n",
    "csv_path = r\"data\\combined_final_papers.csv\"\n",
    "df = pd.read_csv(csv_path).fillna(\"\")\n",
    "\n",
    "# =========================\n",
    "# STEP 2: Preprocess Text\n",
    "# =========================\n",
    "\n",
    "lemmatizer = WordNetLemmatizer()\n",
    "stop_words = set(stopwords.words(\"english\"))\n",
    "\n",
    "def preprocess_text(text):\n",
    "    if not isinstance(text, str):\n",
    "        return \"\"\n",
    "    text = re.sub(r\"[^a-zA-Z\\s]\", \"\", text)\n",
    "    words = word_tokenize(text.lower())\n",
    "    words = [word for word in words if word not in stop_words]\n",
    "    words = [lemmatizer.lemmatize(word) for word in words]\n",
    "    return \" \".join(words)\n",
    "\n",
    "df[\"Preprocessed Title\"] = df[\"Title\"].apply(preprocess_text)\n",
    "df[\"Preprocessed Abstract\"] = df[\"Abstract\"].apply(preprocess_text)\n",
    "df[\"Preprocessed Keyword\"] = df[\"Keyword\"].apply(preprocess_text)\n",
    "\n",
    "# =========================\n",
    "# STEP 3: Combine for Embeddings\n",
    "# =========================\n",
    "\n",
    "df[\"Combined_Text\"] = (\n",
    "    df[\"Preprocessed Title\"] + \". \" +\n",
    "    df[\"Preprocessed Abstract\"] + \". \" +\n",
    "    df[\"Preprocessed Keyword\"]\n",
    ")\n",
    "\n",
    "# =========================\n",
    "# STEP 4: Generate Embeddings\n",
    "# =========================\n",
    "\n",
    "print(\"🔄 Generating embeddings...\")\n",
    "\n",
    "model = SentenceTransformer('all-MiniLM-L6-v2')\n",
    "corpus_embeddings = model.encode(df[\"Combined_Text\"].tolist(), show_progress_bar=True)\n",
    "corpus_embeddings = np.array(corpus_embeddings).astype('float32')\n",
    "\n",
    "# =========================\n",
    "# STEP 5: Build FAISS Index\n",
    "# =========================\n",
    "\n",
    "dimension = corpus_embeddings.shape[1]\n",
    "index = faiss.IndexFlatL2(dimension)\n",
    "index.add(corpus_embeddings)\n",
    "\n",
    "# =========================\n",
    "# STEP 6: Save Index for Reuse\n",
    "# =========================\n",
    "\n",
    "faiss.write_index(index, r\"models\\semantic_index.faiss\")\n",
    "\n",
    "print(\"✅ Semantic index saved successfully!\")\n",
    "\n",
    "# =========================\n",
    "# STEP 7: Semantic Search Function\n",
    "# =========================\n",
    "\n",
    "def semantic_search(query, top_k=10):\n",
    "    query_embedding = model.encode([query]).astype('float32')\n",
    "    distances, indices = index.search(query_embedding, top_k)\n",
    "\n",
    "    results = []\n",
    "    for idx in indices[0]:\n",
    "        paper = df.iloc[idx]\n",
    "        results.append({\n",
    "            \"Title\": paper['Title'],\n",
    "            \"Authors\": paper['Authors'],\n",
    "            \"Published Date\": paper['Published Date'],\n",
    "            \"PDF Link\": paper['PDF Link'],\n",
    "            \"Abstract\": paper['Abstract'],\n",
    "            \"Keyword\": paper['Keyword']\n",
    "        })\n",
    "    return results\n",
    "\n",
    "# =========================\n",
    "# STEP 8: Try It Out!\n",
    "# =========================\n",
    "\n",
    "query = input(\"🔍 Enter your research query: \")\n",
    "results = semantic_search(query)\n",
    "\n",
    "for i, paper in enumerate(results, 1):\n",
    "    print(f\"\\n📄 Result {i}\")\n",
    "    print(\"Title:\", paper[\"Title\"])\n",
    "    print(\"Authors:\", paper[\"Authors\"])\n",
    "    print(\"Date:\", paper[\"Published Date\"])\n",
    "    print(\"Keyword:\", paper[\"Keyword\"])\n",
    "    print(\"Link:\", paper[\"PDF Link\"])\n",
    "    print(\"Abstract:\", paper[\"Abstract\"][:300] + \"...\")"
   ]
  },
  {
   "cell_type": "code",
   "execution_count": 2,
   "metadata": {
    "executionInfo": {
     "elapsed": 33,
     "status": "ok",
     "timestamp": 1750582245271,
     "user": {
      "displayName": "Kamya Bhardwaj",
      "userId": "01359402276596689168"
     },
     "user_tz": -330
    },
    "id": "NrY-ZFAMyuMv"
   },
   "outputs": [
    {
     "name": "stdout",
     "output_type": "stream",
     "text": [
      "✅ citation_utils.py created successfully!\n"
     ]
    }
   ],
   "source": [
    "citation_utils_code = '''\n",
    "def generate_apa_citation(title, authors, date, pdf_link):\n",
    "    # Format authors: \"First A., Second B., & Third C.\"\n",
    "    author_list = [name.strip() for name in authors.split(\",\")]\n",
    "    if len(author_list) == 1:\n",
    "        formatted_authors = author_list[0]\n",
    "    elif len(author_list) == 2:\n",
    "        formatted_authors = f\"{author_list[0]} & {author_list[1]}\"\n",
    "    else:\n",
    "        formatted_authors = \", \".join(author_list[:-1]) + f\", & {author_list[-1]}\"\n",
    "\n",
    "    # Extract year only\n",
    "    year = str(date)[:4] if date else \"n.d.\"\n",
    "\n",
    "    citation = f\"{formatted_authors} ({year}). *{title}*. Retrieved from {pdf_link}\"\n",
    "    return citation\n",
    "'''\n",
    "\n",
    "# ✅ Save to your local path:\n",
    "with open(r\"C:\\Users\\intel\\Desktop\\draft RAG\\app\\citation_utils.py\", \"w\", encoding='utf-8') as f:\n",
    "    f.write(citation_utils_code)\n",
    "\n",
    "print(\"✅ citation_utils.py created successfully!\")"
   ]
  },
  {
   "cell_type": "markdown",
   "metadata": {
    "id": "CkuC-FQl1eMe"
   },
   "source": [
    "## **Citation Generation**"
   ]
  },
  {
   "cell_type": "code",
   "execution_count": 3,
   "metadata": {
    "colab": {
     "base_uri": "https://localhost:8080/"
    },
    "executionInfo": {
     "elapsed": 22,
     "status": "ok",
     "timestamp": 1750582381041,
     "user": {
      "displayName": "Kamya Bhardwaj",
      "userId": "01359402276596689168"
     },
     "user_tz": -330
    },
    "id": "WZN_7mu31i2b",
    "outputId": "b212d176-35bc-40a7-b290-f6475452d0b4"
   },
   "outputs": [
    {
     "name": "stdout",
     "output_type": "stream",
     "text": [
      "✅ APA Citation:\n",
      " Jane Doe, John Smith, & Alan Turing (2020). *Transformers for NLP*. Retrieved from https://arxiv.org/pdf/1234.5678\n"
     ]
    }
   ],
   "source": [
    "# Add your app directory to Python's module path\n",
    "import sys\n",
    "sys.path.append(r\"C:\\Users\\intel\\Desktop\\draft RAG\")\n",
    "\n",
    "# Now import the function\n",
    "from app.citation_utils import generate_apa_citation\n",
    "\n",
    "# Sample test data\n",
    "title = \"Transformers for NLP\"\n",
    "authors = \"Jane Doe, John Smith, Alan Turing\"\n",
    "date = \"2020-05-15\"\n",
    "pdf_link = \"https://arxiv.org/pdf/1234.5678\"\n",
    "\n",
    "# Generate citation\n",
    "citation = generate_apa_citation(title, authors, date, pdf_link)\n",
    "print(\"✅ APA Citation:\\n\", citation)"
   ]
  },
  {
   "cell_type": "code",
   "execution_count": null,
   "metadata": {
    "id": "zJW1Q7QI1lH5"
   },
   "outputs": [],
   "source": []
  }
 ],
 "metadata": {
  "colab": {
   "authorship_tag": "ABX9TyN6hMxjjc/UGkaxt/j75Ubk",
   "provenance": []
  },
  "kernelspec": {
   "display_name": "Python 3 (base)",
   "language": "python",
   "name": "base"
  },
  "language_info": {
   "codemirror_mode": {
    "name": "ipython",
    "version": 3
   },
   "file_extension": ".py",
   "mimetype": "text/x-python",
   "name": "python",
   "nbconvert_exporter": "python",
   "pygments_lexer": "ipython3",
   "version": "3.12.7"
  },
  "widgets": {
   "application/vnd.jupyter.widget-state+json": {
    "29ea5a0420344a3e8d6a6f656762089e": {
     "model_module": "@jupyter-widgets/base",
     "model_module_version": "1.2.0",
     "model_name": "LayoutModel",
     "state": {
      "_model_module": "@jupyter-widgets/base",
      "_model_module_version": "1.2.0",
      "_model_name": "LayoutModel",
      "_view_count": null,
      "_view_module": "@jupyter-widgets/base",
      "_view_module_version": "1.2.0",
      "_view_name": "LayoutView",
      "align_content": null,
      "align_items": null,
      "align_self": null,
      "border": null,
      "bottom": null,
      "display": null,
      "flex": null,
      "flex_flow": null,
      "grid_area": null,
      "grid_auto_columns": null,
      "grid_auto_flow": null,
      "grid_auto_rows": null,
      "grid_column": null,
      "grid_gap": null,
      "grid_row": null,
      "grid_template_areas": null,
      "grid_template_columns": null,
      "grid_template_rows": null,
      "height": null,
      "justify_content": null,
      "justify_items": null,
      "left": null,
      "margin": null,
      "max_height": null,
      "max_width": null,
      "min_height": null,
      "min_width": null,
      "object_fit": null,
      "object_position": null,
      "order": null,
      "overflow": null,
      "overflow_x": null,
      "overflow_y": null,
      "padding": null,
      "right": null,
      "top": null,
      "visibility": null,
      "width": null
     }
    },
    "33dff7cf7453481cb8582e3b6c804373": {
     "model_module": "@jupyter-widgets/controls",
     "model_module_version": "1.5.0",
     "model_name": "FloatProgressModel",
     "state": {
      "_dom_classes": [],
      "_model_module": "@jupyter-widgets/controls",
      "_model_module_version": "1.5.0",
      "_model_name": "FloatProgressModel",
      "_view_count": null,
      "_view_module": "@jupyter-widgets/controls",
      "_view_module_version": "1.5.0",
      "_view_name": "ProgressView",
      "bar_style": "success",
      "description": "",
      "description_tooltip": null,
      "layout": "IPY_MODEL_baec366fdcd64feab1e46e3dfc40fc78",
      "max": 4,
      "min": 0,
      "orientation": "horizontal",
      "style": "IPY_MODEL_e2e28d3e818f4115ad67fbecfe14ca11",
      "value": 4
     }
    },
    "3a510de52c7a4ac49a7b1933c7561f34": {
     "model_module": "@jupyter-widgets/controls",
     "model_module_version": "1.5.0",
     "model_name": "HTMLModel",
     "state": {
      "_dom_classes": [],
      "_model_module": "@jupyter-widgets/controls",
      "_model_module_version": "1.5.0",
      "_model_name": "HTMLModel",
      "_view_count": null,
      "_view_module": "@jupyter-widgets/controls",
      "_view_module_version": "1.5.0",
      "_view_name": "HTMLView",
      "description": "",
      "description_tooltip": null,
      "layout": "IPY_MODEL_9d0e0de4f85441bca9180e0b94021409",
      "placeholder": "​",
      "style": "IPY_MODEL_73fa55a48f614efc8bc15aef876b6678",
      "value": "Batches: 100%"
     }
    },
    "67eb60533ef44045ae16623521849add": {
     "model_module": "@jupyter-widgets/controls",
     "model_module_version": "1.5.0",
     "model_name": "HBoxModel",
     "state": {
      "_dom_classes": [],
      "_model_module": "@jupyter-widgets/controls",
      "_model_module_version": "1.5.0",
      "_model_name": "HBoxModel",
      "_view_count": null,
      "_view_module": "@jupyter-widgets/controls",
      "_view_module_version": "1.5.0",
      "_view_name": "HBoxView",
      "box_style": "",
      "children": [
       "IPY_MODEL_3a510de52c7a4ac49a7b1933c7561f34",
       "IPY_MODEL_33dff7cf7453481cb8582e3b6c804373",
       "IPY_MODEL_c569fa4f60d5434cb17da41a0a8db302"
      ],
      "layout": "IPY_MODEL_f30a3d430b3a49a6a3311e19ced05a43"
     }
    },
    "72ec014ab326457489be06097ecf746a": {
     "model_module": "@jupyter-widgets/controls",
     "model_module_version": "1.5.0",
     "model_name": "DescriptionStyleModel",
     "state": {
      "_model_module": "@jupyter-widgets/controls",
      "_model_module_version": "1.5.0",
      "_model_name": "DescriptionStyleModel",
      "_view_count": null,
      "_view_module": "@jupyter-widgets/base",
      "_view_module_version": "1.2.0",
      "_view_name": "StyleView",
      "description_width": ""
     }
    },
    "73fa55a48f614efc8bc15aef876b6678": {
     "model_module": "@jupyter-widgets/controls",
     "model_module_version": "1.5.0",
     "model_name": "DescriptionStyleModel",
     "state": {
      "_model_module": "@jupyter-widgets/controls",
      "_model_module_version": "1.5.0",
      "_model_name": "DescriptionStyleModel",
      "_view_count": null,
      "_view_module": "@jupyter-widgets/base",
      "_view_module_version": "1.2.0",
      "_view_name": "StyleView",
      "description_width": ""
     }
    },
    "9d0e0de4f85441bca9180e0b94021409": {
     "model_module": "@jupyter-widgets/base",
     "model_module_version": "1.2.0",
     "model_name": "LayoutModel",
     "state": {
      "_model_module": "@jupyter-widgets/base",
      "_model_module_version": "1.2.0",
      "_model_name": "LayoutModel",
      "_view_count": null,
      "_view_module": "@jupyter-widgets/base",
      "_view_module_version": "1.2.0",
      "_view_name": "LayoutView",
      "align_content": null,
      "align_items": null,
      "align_self": null,
      "border": null,
      "bottom": null,
      "display": null,
      "flex": null,
      "flex_flow": null,
      "grid_area": null,
      "grid_auto_columns": null,
      "grid_auto_flow": null,
      "grid_auto_rows": null,
      "grid_column": null,
      "grid_gap": null,
      "grid_row": null,
      "grid_template_areas": null,
      "grid_template_columns": null,
      "grid_template_rows": null,
      "height": null,
      "justify_content": null,
      "justify_items": null,
      "left": null,
      "margin": null,
      "max_height": null,
      "max_width": null,
      "min_height": null,
      "min_width": null,
      "object_fit": null,
      "object_position": null,
      "order": null,
      "overflow": null,
      "overflow_x": null,
      "overflow_y": null,
      "padding": null,
      "right": null,
      "top": null,
      "visibility": null,
      "width": null
     }
    },
    "baec366fdcd64feab1e46e3dfc40fc78": {
     "model_module": "@jupyter-widgets/base",
     "model_module_version": "1.2.0",
     "model_name": "LayoutModel",
     "state": {
      "_model_module": "@jupyter-widgets/base",
      "_model_module_version": "1.2.0",
      "_model_name": "LayoutModel",
      "_view_count": null,
      "_view_module": "@jupyter-widgets/base",
      "_view_module_version": "1.2.0",
      "_view_name": "LayoutView",
      "align_content": null,
      "align_items": null,
      "align_self": null,
      "border": null,
      "bottom": null,
      "display": null,
      "flex": null,
      "flex_flow": null,
      "grid_area": null,
      "grid_auto_columns": null,
      "grid_auto_flow": null,
      "grid_auto_rows": null,
      "grid_column": null,
      "grid_gap": null,
      "grid_row": null,
      "grid_template_areas": null,
      "grid_template_columns": null,
      "grid_template_rows": null,
      "height": null,
      "justify_content": null,
      "justify_items": null,
      "left": null,
      "margin": null,
      "max_height": null,
      "max_width": null,
      "min_height": null,
      "min_width": null,
      "object_fit": null,
      "object_position": null,
      "order": null,
      "overflow": null,
      "overflow_x": null,
      "overflow_y": null,
      "padding": null,
      "right": null,
      "top": null,
      "visibility": null,
      "width": null
     }
    },
    "c569fa4f60d5434cb17da41a0a8db302": {
     "model_module": "@jupyter-widgets/controls",
     "model_module_version": "1.5.0",
     "model_name": "HTMLModel",
     "state": {
      "_dom_classes": [],
      "_model_module": "@jupyter-widgets/controls",
      "_model_module_version": "1.5.0",
      "_model_name": "HTMLModel",
      "_view_count": null,
      "_view_module": "@jupyter-widgets/controls",
      "_view_module_version": "1.5.0",
      "_view_name": "HTMLView",
      "description": "",
      "description_tooltip": null,
      "layout": "IPY_MODEL_29ea5a0420344a3e8d6a6f656762089e",
      "placeholder": "​",
      "style": "IPY_MODEL_72ec014ab326457489be06097ecf746a",
      "value": " 4/4 [00:09&lt;00:00,  1.96s/it]"
     }
    },
    "e2e28d3e818f4115ad67fbecfe14ca11": {
     "model_module": "@jupyter-widgets/controls",
     "model_module_version": "1.5.0",
     "model_name": "ProgressStyleModel",
     "state": {
      "_model_module": "@jupyter-widgets/controls",
      "_model_module_version": "1.5.0",
      "_model_name": "ProgressStyleModel",
      "_view_count": null,
      "_view_module": "@jupyter-widgets/base",
      "_view_module_version": "1.2.0",
      "_view_name": "StyleView",
      "bar_color": null,
      "description_width": ""
     }
    },
    "f30a3d430b3a49a6a3311e19ced05a43": {
     "model_module": "@jupyter-widgets/base",
     "model_module_version": "1.2.0",
     "model_name": "LayoutModel",
     "state": {
      "_model_module": "@jupyter-widgets/base",
      "_model_module_version": "1.2.0",
      "_model_name": "LayoutModel",
      "_view_count": null,
      "_view_module": "@jupyter-widgets/base",
      "_view_module_version": "1.2.0",
      "_view_name": "LayoutView",
      "align_content": null,
      "align_items": null,
      "align_self": null,
      "border": null,
      "bottom": null,
      "display": null,
      "flex": null,
      "flex_flow": null,
      "grid_area": null,
      "grid_auto_columns": null,
      "grid_auto_flow": null,
      "grid_auto_rows": null,
      "grid_column": null,
      "grid_gap": null,
      "grid_row": null,
      "grid_template_areas": null,
      "grid_template_columns": null,
      "grid_template_rows": null,
      "height": null,
      "justify_content": null,
      "justify_items": null,
      "left": null,
      "margin": null,
      "max_height": null,
      "max_width": null,
      "min_height": null,
      "min_width": null,
      "object_fit": null,
      "object_position": null,
      "order": null,
      "overflow": null,
      "overflow_x": null,
      "overflow_y": null,
      "padding": null,
      "right": null,
      "top": null,
      "visibility": null,
      "width": null
     }
    }
   }
  }
 },
 "nbformat": 4,
 "nbformat_minor": 4
}
